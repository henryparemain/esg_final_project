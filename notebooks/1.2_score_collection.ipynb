{
 "cells": [
  {
   "attachments": {},
   "cell_type": "markdown",
   "metadata": {},
   "source": [
    "# 1.2_score_collection"
   ]
  },
  {
   "attachments": {},
   "cell_type": "markdown",
   "metadata": {},
   "source": [
    "The following score collection is focusing only on collecting the historical scores for 97 companies. Not every company has historical ESG data (roughly 500 companies when using yesg package). The scores are ultimately to be used as a comparison against the custom scoring created in Notebook 3.1. Hence, the list of 97 companies is a sample taken from the dataframe created in Notebook 3.1."
   ]
  },
  {
   "cell_type": "code",
   "execution_count": 41,
   "metadata": {},
   "outputs": [],
   "source": [
    "import yesg\n",
    "import numpy as np\n",
    "import joblib\n",
    "import pandas as pd"
   ]
  },
  {
   "cell_type": "code",
   "execution_count": 42,
   "metadata": {},
   "outputs": [],
   "source": [
    "df = joblib.load('../data/df_scores_test.pkl')"
   ]
  },
  {
   "cell_type": "code",
   "execution_count": 43,
   "metadata": {},
   "outputs": [
    {
     "data": {
      "text/html": [
       "<div>\n",
       "<style scoped>\n",
       "    .dataframe tbody tr th:only-of-type {\n",
       "        vertical-align: middle;\n",
       "    }\n",
       "\n",
       "    .dataframe tbody tr th {\n",
       "        vertical-align: top;\n",
       "    }\n",
       "\n",
       "    .dataframe thead th {\n",
       "        text-align: right;\n",
       "    }\n",
       "</style>\n",
       "<table border=\"1\" class=\"dataframe\">\n",
       "  <thead>\n",
       "    <tr style=\"text-align: right;\">\n",
       "      <th></th>\n",
       "      <th>E_weighted</th>\n",
       "      <th>G_weighted</th>\n",
       "      <th>S_weighted</th>\n",
       "    </tr>\n",
       "    <tr>\n",
       "      <th>ticker</th>\n",
       "      <th></th>\n",
       "      <th></th>\n",
       "      <th></th>\n",
       "    </tr>\n",
       "  </thead>\n",
       "  <tbody>\n",
       "    <tr>\n",
       "      <th>A</th>\n",
       "      <td>5.103045</td>\n",
       "      <td>7.743126</td>\n",
       "      <td>6.560172</td>\n",
       "    </tr>\n",
       "    <tr>\n",
       "      <th>AAPL</th>\n",
       "      <td>4.782933</td>\n",
       "      <td>7.692299</td>\n",
       "      <td>11.536030</td>\n",
       "    </tr>\n",
       "    <tr>\n",
       "      <th>ACGL</th>\n",
       "      <td>2.596256</td>\n",
       "      <td>4.995061</td>\n",
       "      <td>6.943322</td>\n",
       "    </tr>\n",
       "    <tr>\n",
       "      <th>AEP</th>\n",
       "      <td>18.229935</td>\n",
       "      <td>13.416611</td>\n",
       "      <td>18.009466</td>\n",
       "    </tr>\n",
       "    <tr>\n",
       "      <th>AIZ</th>\n",
       "      <td>3.679967</td>\n",
       "      <td>5.587310</td>\n",
       "      <td>4.273247</td>\n",
       "    </tr>\n",
       "    <tr>\n",
       "      <th>...</th>\n",
       "      <td>...</td>\n",
       "      <td>...</td>\n",
       "      <td>...</td>\n",
       "    </tr>\n",
       "    <tr>\n",
       "      <th>VZ</th>\n",
       "      <td>5.799947</td>\n",
       "      <td>12.644405</td>\n",
       "      <td>12.419938</td>\n",
       "    </tr>\n",
       "    <tr>\n",
       "      <th>WMT</th>\n",
       "      <td>6.088754</td>\n",
       "      <td>6.094006</td>\n",
       "      <td>7.251427</td>\n",
       "    </tr>\n",
       "    <tr>\n",
       "      <th>WRK</th>\n",
       "      <td>5.837043</td>\n",
       "      <td>5.884105</td>\n",
       "      <td>5.424793</td>\n",
       "    </tr>\n",
       "    <tr>\n",
       "      <th>WST</th>\n",
       "      <td>3.348640</td>\n",
       "      <td>7.164991</td>\n",
       "      <td>8.592257</td>\n",
       "    </tr>\n",
       "    <tr>\n",
       "      <th>ZBH</th>\n",
       "      <td>2.782735</td>\n",
       "      <td>10.557563</td>\n",
       "      <td>9.138942</td>\n",
       "    </tr>\n",
       "  </tbody>\n",
       "</table>\n",
       "<p>97 rows × 3 columns</p>\n",
       "</div>"
      ],
      "text/plain": [
       "        E_weighted  G_weighted  S_weighted\n",
       "ticker                                    \n",
       "A         5.103045    7.743126    6.560172\n",
       "AAPL      4.782933    7.692299   11.536030\n",
       "ACGL      2.596256    4.995061    6.943322\n",
       "AEP      18.229935   13.416611   18.009466\n",
       "AIZ       3.679967    5.587310    4.273247\n",
       "...            ...         ...         ...\n",
       "VZ        5.799947   12.644405   12.419938\n",
       "WMT       6.088754    6.094006    7.251427\n",
       "WRK       5.837043    5.884105    5.424793\n",
       "WST       3.348640    7.164991    8.592257\n",
       "ZBH       2.782735   10.557563    9.138942\n",
       "\n",
       "[97 rows x 3 columns]"
      ]
     },
     "execution_count": 43,
     "metadata": {},
     "output_type": "execute_result"
    }
   ],
   "source": [
    "df"
   ]
  },
  {
   "attachments": {},
   "cell_type": "markdown",
   "metadata": {},
   "source": [
    "The above dataframe is a sample of the larger dataframe created in Notebook 3.1 and contains a list of the scores created using LDA. The primary purpose of it is to get a list of tickers for which we can iterate through and search for historical ESG scores."
   ]
  },
  {
   "cell_type": "code",
   "execution_count": 44,
   "metadata": {},
   "outputs": [],
   "source": [
    "tick_list = df.index"
   ]
  },
  {
   "cell_type": "code",
   "execution_count": 45,
   "metadata": {},
   "outputs": [
    {
     "data": {
      "text/plain": [
       "97"
      ]
     },
     "execution_count": 45,
     "metadata": {},
     "output_type": "execute_result"
    }
   ],
   "source": [
    "len(tick_list)"
   ]
  },
  {
   "attachments": {},
   "cell_type": "markdown",
   "metadata": {},
   "source": [
    "The following code block iterates through the list of companies and grabs the historical scores. The ticker of the company is stored as the key in a dictionary, and the historical scores are stored as values. It is recommended you load the pickles instead of running the code block below."
   ]
  },
  {
   "cell_type": "code",
   "execution_count": 46,
   "metadata": {},
   "outputs": [],
   "source": [
    "# report_count = 0\n",
    "# no_score = []\n",
    "# tick_dict = {}\n",
    "# tick_tracker = []\n",
    "# for tick in tick_list:\n",
    "#     if tick not in tick_tracker:\n",
    "#         try:\n",
    "#             df = yesg.get_historic_esg(tick)\n",
    "#             if df is None:\n",
    "#                 no_score.append(tick)\n",
    "#             else:\n",
    "#                 tick_tracker.append(tick)\n",
    "#                 tick_dict[tick] = df\n",
    "#                 report_count +=1 \n",
    "#                 print(report_count)\n",
    "#         except Exception as e:\n",
    "#             print(tick)\n",
    "#             print(e)\n",
    "#     else:\n",
    "#         continue"
   ]
  },
  {
   "attachments": {},
   "cell_type": "markdown",
   "metadata": {},
   "source": [
    "Using the above method, the maximum number of historical ESG scores that can be obtained is 93."
   ]
  },
  {
   "cell_type": "code",
   "execution_count": 47,
   "metadata": {},
   "outputs": [],
   "source": [
    "# import joblib\n",
    "# tick_dict = joblib.dump(tick_dict,'../data/tick_dict_2.pkl')\n",
    "# tick_tracker = joblib.dump(tick_tracker,'../data/tick_tracker_2.pkl')\n",
    "# report_count = joblib.dump(report_count,'../data/report_count_2.pkl')"
   ]
  },
  {
   "cell_type": "code",
   "execution_count": 48,
   "metadata": {},
   "outputs": [],
   "source": [
    "tick_dict = joblib.load('../data/tick_dict_2.pkl')\n",
    "tick_tracker = joblib.load('../data/tick_tracker_2.pkl')\n",
    "report_count = joblib.load('../data/report_count_2.pkl')"
   ]
  },
  {
   "attachments": {},
   "cell_type": "markdown",
   "metadata": {},
   "source": [
    "The below code turns the historical scores into a dataframe. "
   ]
  },
  {
   "cell_type": "code",
   "execution_count": 49,
   "metadata": {},
   "outputs": [],
   "source": [
    "df_fin = None\n",
    "for i in list(range(0,len(list(tick_dict.values())))):\n",
    "    df = pd.DataFrame(list(tick_dict.values())[i])\n",
    "    df['tick'] = list(tick_dict.keys())[i]\n",
    "    df_fin = pd.concat([df_fin,df], axis = 0)\n"
   ]
  },
  {
   "cell_type": "code",
   "execution_count": 50,
   "metadata": {},
   "outputs": [
    {
     "data": {
      "text/plain": [
       "(8732, 5)"
      ]
     },
     "execution_count": 50,
     "metadata": {},
     "output_type": "execute_result"
    }
   ],
   "source": [
    "df_fin.shape"
   ]
  },
  {
   "attachments": {},
   "cell_type": "markdown",
   "metadata": {},
   "source": [
    "The below code selects only the years where historical data is for 2021. "
   ]
  },
  {
   "cell_type": "code",
   "execution_count": 51,
   "metadata": {},
   "outputs": [],
   "source": [
    "df_fin = df_fin[df_fin.index.year == 2021]"
   ]
  },
  {
   "attachments": {},
   "cell_type": "markdown",
   "metadata": {},
   "source": [
    "Selecting only the month of January."
   ]
  },
  {
   "cell_type": "code",
   "execution_count": 52,
   "metadata": {},
   "outputs": [],
   "source": [
    "df_fin_jan = df_fin[df_fin.index.month.isin([1])]"
   ]
  },
  {
   "cell_type": "code",
   "execution_count": 53,
   "metadata": {},
   "outputs": [
    {
     "data": {
      "text/html": [
       "<div>\n",
       "<style scoped>\n",
       "    .dataframe tbody tr th:only-of-type {\n",
       "        vertical-align: middle;\n",
       "    }\n",
       "\n",
       "    .dataframe tbody tr th {\n",
       "        vertical-align: top;\n",
       "    }\n",
       "\n",
       "    .dataframe thead th {\n",
       "        text-align: right;\n",
       "    }\n",
       "</style>\n",
       "<table border=\"1\" class=\"dataframe\">\n",
       "  <thead>\n",
       "    <tr style=\"text-align: right;\">\n",
       "      <th></th>\n",
       "      <th>Total-Score</th>\n",
       "      <th>E-Score</th>\n",
       "      <th>S-Score</th>\n",
       "      <th>G-Score</th>\n",
       "      <th>tick</th>\n",
       "    </tr>\n",
       "    <tr>\n",
       "      <th>Date</th>\n",
       "      <th></th>\n",
       "      <th></th>\n",
       "      <th></th>\n",
       "      <th></th>\n",
       "      <th></th>\n",
       "    </tr>\n",
       "  </thead>\n",
       "  <tbody>\n",
       "    <tr>\n",
       "      <th>2021-01-01</th>\n",
       "      <td>16.64</td>\n",
       "      <td>0.87</td>\n",
       "      <td>9.44</td>\n",
       "      <td>6.33</td>\n",
       "      <td>A</td>\n",
       "    </tr>\n",
       "    <tr>\n",
       "      <th>2021-01-01</th>\n",
       "      <td>16.46</td>\n",
       "      <td>0.10</td>\n",
       "      <td>7.55</td>\n",
       "      <td>8.82</td>\n",
       "      <td>AAPL</td>\n",
       "    </tr>\n",
       "    <tr>\n",
       "      <th>2021-01-01</th>\n",
       "      <td>26.56</td>\n",
       "      <td>2.15</td>\n",
       "      <td>11.03</td>\n",
       "      <td>13.37</td>\n",
       "      <td>ACGL</td>\n",
       "    </tr>\n",
       "    <tr>\n",
       "      <th>2021-01-01</th>\n",
       "      <td>34.44</td>\n",
       "      <td>19.33</td>\n",
       "      <td>9.83</td>\n",
       "      <td>5.28</td>\n",
       "      <td>AEP</td>\n",
       "    </tr>\n",
       "    <tr>\n",
       "      <th>2021-01-01</th>\n",
       "      <td>25.15</td>\n",
       "      <td>1.26</td>\n",
       "      <td>10.65</td>\n",
       "      <td>13.25</td>\n",
       "      <td>AIZ</td>\n",
       "    </tr>\n",
       "  </tbody>\n",
       "</table>\n",
       "</div>"
      ],
      "text/plain": [
       "            Total-Score  E-Score  S-Score  G-Score  tick\n",
       "Date                                                    \n",
       "2021-01-01        16.64     0.87     9.44     6.33     A\n",
       "2021-01-01        16.46     0.10     7.55     8.82  AAPL\n",
       "2021-01-01        26.56     2.15    11.03    13.37  ACGL\n",
       "2021-01-01        34.44    19.33     9.83     5.28   AEP\n",
       "2021-01-01        25.15     1.26    10.65    13.25   AIZ"
      ]
     },
     "execution_count": 53,
     "metadata": {},
     "output_type": "execute_result"
    }
   ],
   "source": [
    "df_fin_jan.head()"
   ]
  },
  {
   "cell_type": "code",
   "execution_count": 54,
   "metadata": {},
   "outputs": [],
   "source": [
    "df_fin_jan = df_fin_jan.reset_index()"
   ]
  },
  {
   "cell_type": "code",
   "execution_count": 55,
   "metadata": {},
   "outputs": [],
   "source": [
    "df_fin_jan.drop(columns = 'Date', inplace = True)\n"
   ]
  },
  {
   "cell_type": "code",
   "execution_count": 56,
   "metadata": {},
   "outputs": [],
   "source": [
    "df_fin_jan.set_index('tick', inplace=True)"
   ]
  },
  {
   "cell_type": "code",
   "execution_count": 57,
   "metadata": {},
   "outputs": [
    {
     "data": {
      "text/html": [
       "<div>\n",
       "<style scoped>\n",
       "    .dataframe tbody tr th:only-of-type {\n",
       "        vertical-align: middle;\n",
       "    }\n",
       "\n",
       "    .dataframe tbody tr th {\n",
       "        vertical-align: top;\n",
       "    }\n",
       "\n",
       "    .dataframe thead th {\n",
       "        text-align: right;\n",
       "    }\n",
       "</style>\n",
       "<table border=\"1\" class=\"dataframe\">\n",
       "  <thead>\n",
       "    <tr style=\"text-align: right;\">\n",
       "      <th></th>\n",
       "      <th>Total-Score</th>\n",
       "      <th>E-Score</th>\n",
       "      <th>S-Score</th>\n",
       "      <th>G-Score</th>\n",
       "    </tr>\n",
       "    <tr>\n",
       "      <th>tick</th>\n",
       "      <th></th>\n",
       "      <th></th>\n",
       "      <th></th>\n",
       "      <th></th>\n",
       "    </tr>\n",
       "  </thead>\n",
       "  <tbody>\n",
       "    <tr>\n",
       "      <th>A</th>\n",
       "      <td>16.64</td>\n",
       "      <td>0.87</td>\n",
       "      <td>9.44</td>\n",
       "      <td>6.33</td>\n",
       "    </tr>\n",
       "    <tr>\n",
       "      <th>AAPL</th>\n",
       "      <td>16.46</td>\n",
       "      <td>0.10</td>\n",
       "      <td>7.55</td>\n",
       "      <td>8.82</td>\n",
       "    </tr>\n",
       "    <tr>\n",
       "      <th>ACGL</th>\n",
       "      <td>26.56</td>\n",
       "      <td>2.15</td>\n",
       "      <td>11.03</td>\n",
       "      <td>13.37</td>\n",
       "    </tr>\n",
       "    <tr>\n",
       "      <th>AEP</th>\n",
       "      <td>34.44</td>\n",
       "      <td>19.33</td>\n",
       "      <td>9.83</td>\n",
       "      <td>5.28</td>\n",
       "    </tr>\n",
       "    <tr>\n",
       "      <th>AIZ</th>\n",
       "      <td>25.15</td>\n",
       "      <td>1.26</td>\n",
       "      <td>10.65</td>\n",
       "      <td>13.25</td>\n",
       "    </tr>\n",
       "    <tr>\n",
       "      <th>...</th>\n",
       "      <td>...</td>\n",
       "      <td>...</td>\n",
       "      <td>...</td>\n",
       "      <td>...</td>\n",
       "    </tr>\n",
       "    <tr>\n",
       "      <th>VRTX</th>\n",
       "      <td>24.84</td>\n",
       "      <td>0.15</td>\n",
       "      <td>17.22</td>\n",
       "      <td>7.46</td>\n",
       "    </tr>\n",
       "    <tr>\n",
       "      <th>VTR</th>\n",
       "      <td>12.20</td>\n",
       "      <td>3.40</td>\n",
       "      <td>4.03</td>\n",
       "      <td>4.77</td>\n",
       "    </tr>\n",
       "    <tr>\n",
       "      <th>VZ</th>\n",
       "      <td>18.09</td>\n",
       "      <td>1.71</td>\n",
       "      <td>10.20</td>\n",
       "      <td>6.18</td>\n",
       "    </tr>\n",
       "    <tr>\n",
       "      <th>WMT</th>\n",
       "      <td>27.29</td>\n",
       "      <td>3.19</td>\n",
       "      <td>17.20</td>\n",
       "      <td>6.91</td>\n",
       "    </tr>\n",
       "    <tr>\n",
       "      <th>ZBH</th>\n",
       "      <td>34.16</td>\n",
       "      <td>4.79</td>\n",
       "      <td>18.90</td>\n",
       "      <td>10.46</td>\n",
       "    </tr>\n",
       "  </tbody>\n",
       "</table>\n",
       "<p>91 rows × 4 columns</p>\n",
       "</div>"
      ],
      "text/plain": [
       "      Total-Score  E-Score  S-Score  G-Score\n",
       "tick                                        \n",
       "A           16.64     0.87     9.44     6.33\n",
       "AAPL        16.46     0.10     7.55     8.82\n",
       "ACGL        26.56     2.15    11.03    13.37\n",
       "AEP         34.44    19.33     9.83     5.28\n",
       "AIZ         25.15     1.26    10.65    13.25\n",
       "...           ...      ...      ...      ...\n",
       "VRTX        24.84     0.15    17.22     7.46\n",
       "VTR         12.20     3.40     4.03     4.77\n",
       "VZ          18.09     1.71    10.20     6.18\n",
       "WMT         27.29     3.19    17.20     6.91\n",
       "ZBH         34.16     4.79    18.90    10.46\n",
       "\n",
       "[91 rows x 4 columns]"
      ]
     },
     "execution_count": 57,
     "metadata": {},
     "output_type": "execute_result"
    }
   ],
   "source": [
    "df_fin_jan"
   ]
  },
  {
   "attachments": {},
   "cell_type": "markdown",
   "metadata": {},
   "source": [
    "The above dataframe contains historical esg scores from January 2021 for 91 different companies."
   ]
  },
  {
   "attachments": {},
   "cell_type": "markdown",
   "metadata": {},
   "source": [
    "The below section aims to rank each of the e, s and g scores based on which decile the scores fall into. This will allow us to compare my custom esg scores with the historical scores. Note that the higher the score, the greater the risk. Hence, to ensure that a lower score means that it a company falls into a higher decile, the inverse of the risk is used before taking the deciles. "
   ]
  },
  {
   "cell_type": "code",
   "execution_count": 58,
   "metadata": {},
   "outputs": [],
   "source": [
    "df_fin_jan['e_rank'] = pd.qcut(1/df_fin_jan['E-Score'],10, labels=False)\n",
    "df_fin_jan['s_rank'] = pd.qcut(1/df_fin_jan['S-Score'],10, labels=False)\n",
    "df_fin_jan['g_rank'] = pd.qcut(1/df_fin_jan['G-Score'],10, labels=False)"
   ]
  },
  {
   "cell_type": "code",
   "execution_count": 59,
   "metadata": {},
   "outputs": [
    {
     "data": {
      "text/html": [
       "<div>\n",
       "<style scoped>\n",
       "    .dataframe tbody tr th:only-of-type {\n",
       "        vertical-align: middle;\n",
       "    }\n",
       "\n",
       "    .dataframe tbody tr th {\n",
       "        vertical-align: top;\n",
       "    }\n",
       "\n",
       "    .dataframe thead th {\n",
       "        text-align: right;\n",
       "    }\n",
       "</style>\n",
       "<table border=\"1\" class=\"dataframe\">\n",
       "  <thead>\n",
       "    <tr style=\"text-align: right;\">\n",
       "      <th></th>\n",
       "      <th>Total-Score</th>\n",
       "      <th>E-Score</th>\n",
       "      <th>S-Score</th>\n",
       "      <th>G-Score</th>\n",
       "      <th>e_rank</th>\n",
       "      <th>s_rank</th>\n",
       "      <th>g_rank</th>\n",
       "    </tr>\n",
       "    <tr>\n",
       "      <th>tick</th>\n",
       "      <th></th>\n",
       "      <th></th>\n",
       "      <th></th>\n",
       "      <th></th>\n",
       "      <th></th>\n",
       "      <th></th>\n",
       "      <th></th>\n",
       "    </tr>\n",
       "  </thead>\n",
       "  <tbody>\n",
       "    <tr>\n",
       "      <th>A</th>\n",
       "      <td>16.64</td>\n",
       "      <td>0.87</td>\n",
       "      <td>9.44</td>\n",
       "      <td>6.33</td>\n",
       "      <td>8</td>\n",
       "      <td>4</td>\n",
       "      <td>4</td>\n",
       "    </tr>\n",
       "    <tr>\n",
       "      <th>AAPL</th>\n",
       "      <td>16.46</td>\n",
       "      <td>0.10</td>\n",
       "      <td>7.55</td>\n",
       "      <td>8.82</td>\n",
       "      <td>9</td>\n",
       "      <td>6</td>\n",
       "      <td>1</td>\n",
       "    </tr>\n",
       "    <tr>\n",
       "      <th>ACGL</th>\n",
       "      <td>26.56</td>\n",
       "      <td>2.15</td>\n",
       "      <td>11.03</td>\n",
       "      <td>13.37</td>\n",
       "      <td>6</td>\n",
       "      <td>2</td>\n",
       "      <td>0</td>\n",
       "    </tr>\n",
       "    <tr>\n",
       "      <th>AEP</th>\n",
       "      <td>34.44</td>\n",
       "      <td>19.33</td>\n",
       "      <td>9.83</td>\n",
       "      <td>5.28</td>\n",
       "      <td>0</td>\n",
       "      <td>4</td>\n",
       "      <td>7</td>\n",
       "    </tr>\n",
       "    <tr>\n",
       "      <th>AIZ</th>\n",
       "      <td>25.15</td>\n",
       "      <td>1.26</td>\n",
       "      <td>10.65</td>\n",
       "      <td>13.25</td>\n",
       "      <td>8</td>\n",
       "      <td>2</td>\n",
       "      <td>0</td>\n",
       "    </tr>\n",
       "    <tr>\n",
       "      <th>...</th>\n",
       "      <td>...</td>\n",
       "      <td>...</td>\n",
       "      <td>...</td>\n",
       "      <td>...</td>\n",
       "      <td>...</td>\n",
       "      <td>...</td>\n",
       "      <td>...</td>\n",
       "    </tr>\n",
       "    <tr>\n",
       "      <th>VRTX</th>\n",
       "      <td>24.84</td>\n",
       "      <td>0.15</td>\n",
       "      <td>17.22</td>\n",
       "      <td>7.46</td>\n",
       "      <td>9</td>\n",
       "      <td>0</td>\n",
       "      <td>3</td>\n",
       "    </tr>\n",
       "    <tr>\n",
       "      <th>VTR</th>\n",
       "      <td>12.20</td>\n",
       "      <td>3.40</td>\n",
       "      <td>4.03</td>\n",
       "      <td>4.77</td>\n",
       "      <td>6</td>\n",
       "      <td>8</td>\n",
       "      <td>8</td>\n",
       "    </tr>\n",
       "    <tr>\n",
       "      <th>VZ</th>\n",
       "      <td>18.09</td>\n",
       "      <td>1.71</td>\n",
       "      <td>10.20</td>\n",
       "      <td>6.18</td>\n",
       "      <td>7</td>\n",
       "      <td>3</td>\n",
       "      <td>5</td>\n",
       "    </tr>\n",
       "    <tr>\n",
       "      <th>WMT</th>\n",
       "      <td>27.29</td>\n",
       "      <td>3.19</td>\n",
       "      <td>17.20</td>\n",
       "      <td>6.91</td>\n",
       "      <td>6</td>\n",
       "      <td>0</td>\n",
       "      <td>4</td>\n",
       "    </tr>\n",
       "    <tr>\n",
       "      <th>ZBH</th>\n",
       "      <td>34.16</td>\n",
       "      <td>4.79</td>\n",
       "      <td>18.90</td>\n",
       "      <td>10.46</td>\n",
       "      <td>5</td>\n",
       "      <td>0</td>\n",
       "      <td>0</td>\n",
       "    </tr>\n",
       "  </tbody>\n",
       "</table>\n",
       "<p>91 rows × 7 columns</p>\n",
       "</div>"
      ],
      "text/plain": [
       "      Total-Score  E-Score  S-Score  G-Score  e_rank  s_rank  g_rank\n",
       "tick                                                                \n",
       "A           16.64     0.87     9.44     6.33       8       4       4\n",
       "AAPL        16.46     0.10     7.55     8.82       9       6       1\n",
       "ACGL        26.56     2.15    11.03    13.37       6       2       0\n",
       "AEP         34.44    19.33     9.83     5.28       0       4       7\n",
       "AIZ         25.15     1.26    10.65    13.25       8       2       0\n",
       "...           ...      ...      ...      ...     ...     ...     ...\n",
       "VRTX        24.84     0.15    17.22     7.46       9       0       3\n",
       "VTR         12.20     3.40     4.03     4.77       6       8       8\n",
       "VZ          18.09     1.71    10.20     6.18       7       3       5\n",
       "WMT         27.29     3.19    17.20     6.91       6       0       4\n",
       "ZBH         34.16     4.79    18.90    10.46       5       0       0\n",
       "\n",
       "[91 rows x 7 columns]"
      ]
     },
     "execution_count": 59,
     "metadata": {},
     "output_type": "execute_result"
    }
   ],
   "source": [
    "df_fin_jan"
   ]
  },
  {
   "cell_type": "code",
   "execution_count": 60,
   "metadata": {},
   "outputs": [
    {
     "data": {
      "text/plain": [
       "['../data/df_scores.pkl']"
      ]
     },
     "execution_count": 60,
     "metadata": {},
     "output_type": "execute_result"
    }
   ],
   "source": [
    "joblib.dump(df_fin_jan, '../data/df_scores.pkl')"
   ]
  },
  {
   "attachments": {},
   "cell_type": "markdown",
   "metadata": {},
   "source": [
    "The above dataframe is to be used in Notebook 3.1 to compare the actual scores against the scores created via the novel scoring method. "
   ]
  }
 ],
 "metadata": {
  "kernelspec": {
   "display_name": "Capstone",
   "language": "python",
   "name": "python3"
  },
  "language_info": {
   "codemirror_mode": {
    "name": "ipython",
    "version": 3
   },
   "file_extension": ".py",
   "mimetype": "text/x-python",
   "name": "python",
   "nbconvert_exporter": "python",
   "pygments_lexer": "ipython3",
   "version": "3.7.16"
  },
  "orig_nbformat": 4,
  "vscode": {
   "interpreter": {
    "hash": "77d037ae20f25a603dd8c443406e1830943d5721ab0b41ef1803dae87d9ad181"
   }
  }
 },
 "nbformat": 4,
 "nbformat_minor": 2
}
